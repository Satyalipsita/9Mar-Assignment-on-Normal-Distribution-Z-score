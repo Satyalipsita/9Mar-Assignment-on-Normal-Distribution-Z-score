{
 "cells": [
  {
   "cell_type": "code",
   "execution_count": null,
   "id": "4fc82c86-ee14-4cd3-896a-fb3bbfd19056",
   "metadata": {},
   "outputs": [],
   "source": [
    "Probability Mass Function (PMF) and Probability Density Function (PDF) are both \n",
    "used to describe the distribution of a random variable. The key difference between \n",
    "PMF and PDF lies in the type of random variable being described.\n",
    "\n",
    "Probability Mass Function (PMF)\n",
    "A probability mass function (PMF) is a function that describes\n",
    "the probability of a discrete random variable taking on a particular value. \n",
    "In other words, a PMF is a function that maps each value in the support of a discrete \n",
    "random variable to its probability.\n",
    "\n",
    "\n",
    "Probability Density Function (PDF)\n",
    "A probability density function (PDF) is a \n",
    "function that describes the probability of\n",
    "a continuous random variable taking on a particular value. \n",
    "In other words, a PDF is a function that maps each value\n",
    "in the support of a continuous random variable to the density of\n",
    "the probability distribution at that point.\n"
   ]
  }
 ],
 "metadata": {
  "kernelspec": {
   "display_name": "Python 3 (ipykernel)",
   "language": "python",
   "name": "python3"
  },
  "language_info": {
   "codemirror_mode": {
    "name": "ipython",
    "version": 3
   },
   "file_extension": ".py",
   "mimetype": "text/x-python",
   "name": "python",
   "nbconvert_exporter": "python",
   "pygments_lexer": "ipython3",
   "version": "3.10.8"
  }
 },
 "nbformat": 4,
 "nbformat_minor": 5
}

{
 "cells": [
  {
   "cell_type": "code",
   "execution_count": null,
   "id": "d910072e-641d-4d21-bef2-c2a986b0b04e",
   "metadata": {},
   "outputs": [],
   "source": [
    "These are  assumptions in Central limit theorm\n",
    "\n",
    "1-Independence: The samples must be independent of each other. \n",
    "This means that the value of one sample should not be influenced by the value of any other sample.\n",
    "\n",
    "2-Sample size: The sample size should be large enough. Generally, \n",
    "a sample size of 30 or greater is considered sufficient to apply\n",
    "the central limit theorem, although this may vary depending on the\n",
    "distribution of the original population.\n",
    "\n",
    "3-Identically distributed: The random variables should be identically \n",
    "distributed, meaning that they should have the same mean and variance.\n",
    "\n",
    "4-Finite variance: The random variables should have a finite variance.\n",
    "This means that the spread of the data should not be too large, otherwise,\n",
    "the sample mean may not converge to a normal distribution."
   ]
  }
 ],
 "metadata": {
  "kernelspec": {
   "display_name": "Python 3 (ipykernel)",
   "language": "python",
   "name": "python3"
  },
  "language_info": {
   "codemirror_mode": {
    "name": "ipython",
    "version": 3
   },
   "file_extension": ".py",
   "mimetype": "text/x-python",
   "name": "python",
   "nbconvert_exporter": "python",
   "pygments_lexer": "ipython3",
   "version": "3.10.8"
  }
 },
 "nbformat": 4,
 "nbformat_minor": 5
}

{
 "cells": [
  {
   "cell_type": "code",
   "execution_count": null,
   "id": "a028b9d7-a0c0-45ec-ac2a-412afa827a66",
   "metadata": {},
   "outputs": [],
   "source": [
    "The normal distribution is a useful model for several reasons:\n",
    "\n",
    "Many natural and social phenomena can be reasonably modeled using the normal distribution. \n",
    "For example, the heights of adult humans, the weights of apples in a basket, and the errors \n",
    "in a manufacturing process can often be modeled using the normal distribution."
   ]
  }
 ],
 "metadata": {
  "kernelspec": {
   "display_name": "Python 3 (ipykernel)",
   "language": "python",
   "name": "python3"
  },
  "language_info": {
   "codemirror_mode": {
    "name": "ipython",
    "version": 3
   },
   "file_extension": ".py",
   "mimetype": "text/x-python",
   "name": "python",
   "nbconvert_exporter": "python",
   "pygments_lexer": "ipython3",
   "version": "3.10.8"
  }
 },
 "nbformat": 4,
 "nbformat_minor": 5
}

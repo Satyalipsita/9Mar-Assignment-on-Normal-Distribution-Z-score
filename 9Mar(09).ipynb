{
 "cells": [
  {
   "cell_type": "code",
   "execution_count": null,
   "id": "f9d1e0f7-5058-46db-a688-e85c46739e6c",
   "metadata": {},
   "outputs": [],
   "source": [
    "The central limit theorem (CLT) is a fundamental concept in \n",
    "statistics that describes the behavior of the sample means \n",
    "from a large number of independent and identically distributed random variables.\n",
    "It states that if we take repeated random samples of size n from any distribution, \n",
    "then the distribution of the sample means will approach a normal distribution, \n",
    "regardless of the shape of the original distribution, as the sample size becomes larger.\n",
    "\n",
    "The significance of the central limit theorem lies in its broad applicability across \n",
    "a wide range of fields, including finance, engineering, social sciences, and natural sciences. \n",
    "Some of the key uses and implications of the central limit theorem are:\n",
    "\n",
    "1-Estimating population parameters: The central limit theorem allows us to use the normal \n",
    " distribution to estimate the population parameters, such as the population mean and variance, \n",
    " from the sample means.\n",
    "\n",
    "2-Hypothesis testing: The central limit theorem is the foundation of many statistical tests,\n",
    " such as the t-test and the F-test, which are used to test hypotheses about population parameters.\n",
    "\n",
    "3-Statistical inference: The central limit theorem plays a crucial role in \n",
    "statistical inference, which involves making predictions or drawing conclusions \n",
    "about a population based on a sample.\n",
    "\n",
    "4-Quality control: The central limit theorem is used in quality control to \n",
    "monitor the variability of a process by estimating the process mean and \n",
    "variance from sample means.\n",
    "\n",
    "5-Sampling theory: The central limit theorem provides a theoretical \n",
    "basis for sampling theory, which is the study of how to obtain representative samples from a population.\n",
    "\n"
   ]
  }
 ],
 "metadata": {
  "kernelspec": {
   "display_name": "Python 3 (ipykernel)",
   "language": "python",
   "name": "python3"
  },
  "language_info": {
   "codemirror_mode": {
    "name": "ipython",
    "version": 3
   },
   "file_extension": ".py",
   "mimetype": "text/x-python",
   "name": "python",
   "nbconvert_exporter": "python",
   "pygments_lexer": "ipython3",
   "version": "3.10.8"
  }
 },
 "nbformat": 4,
 "nbformat_minor": 5
}

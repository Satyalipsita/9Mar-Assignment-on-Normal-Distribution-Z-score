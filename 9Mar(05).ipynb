{
 "cells": [
  {
   "cell_type": "code",
   "execution_count": null,
   "id": "d663cf1b-7ba8-4894-a5a9-047febc8edd1",
   "metadata": {},
   "outputs": [],
   "source": [
    "Bernoulli distribution and binomial distribution are two common probability \n",
    "distributions that are used to model random processes with binary outcomes\n",
    "(i.e., outcomes that have only two possible values, usually denoted \n",
    " as \"success\" or \"failure\"). While they are similar in many ways, \n",
    "there are some important differences between the two distributions.\n",
    "\n",
    "Bernoulli Distribution:\n",
    "The Bernoulli distribution models a single trial of a binary process that \n",
    "results in either a success (probability p) or a failure (probability 1-p). \n",
    "The probability mass function (PMF) of a Bernoulli distribution is:\n",
    "P(X=k) = p^k (1-p)^(1-k), for k=0,1\n",
    "\n",
    "where X is the random variable that represents the outcome of the trial, \n",
    "and k=0 represents a failure and k=1 represents a success.\n",
    "\n",
    "Binomial Distribution:\n",
    "The binomial distribution models the number of successes in a fixed number (n) \n",
    "of independent trials of a binary process that each have a probability p of \n",
    "success. The probability mass function (PMF) of a binomial distribution is:\n",
    "P(X=k) = (n choose k) * p^k (1-p)^(n-k), for k=0,1,2,...,n\n",
    "\n",
    "where X is the random variable that represents the number of successes in n trials, \n",
    "k represents the number of successes, and (n choose k) is the binomial coefficient.\n",
    "\n",
    "Some key differences between Bernoulli and binomial distributions are:\n",
    "\n",
    "1-The Bernoulli distribution models a single trial, while the binomial distribution models multiple \n",
    "independent trials.\n",
    "2-The Bernoulli distribution has only two possible outcomes (success or failure),\n",
    "while the binomial distribution has k+1 possible outcomes (where k is the number of trials).\n",
    "3-The Bernoulli distribution has a single parameter (p), while the binomial distribution has \n",
    "two parameters (p and n).\n",
    "  Overall, the Bernoulli and binomial distributions are both important probability\n",
    "  distributions for modeling binary outcomes, but they are used in different contexts and have different properties.\n"
   ]
  }
 ],
 "metadata": {
  "kernelspec": {
   "display_name": "Python 3 (ipykernel)",
   "language": "python",
   "name": "python3"
  },
  "language_info": {
   "codemirror_mode": {
    "name": "ipython",
    "version": 3
   },
   "file_extension": ".py",
   "mimetype": "text/x-python",
   "name": "python",
   "nbconvert_exporter": "python",
   "pygments_lexer": "ipython3",
   "version": "3.10.8"
  }
 },
 "nbformat": 4,
 "nbformat_minor": 5
}

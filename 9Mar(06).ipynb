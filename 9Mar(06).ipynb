{
 "cells": [
  {
   "cell_type": "code",
   "execution_count": null,
   "id": "d045f21d-1b7e-4bcd-9e5c-8cb275d4e9e8",
   "metadata": {},
   "outputs": [],
   "source": [
    "Q-7:\n",
    "     Mean= 50\n",
    "        std=10\n",
    "     z score=60-50/10=1\n",
    "    z score=1\n",
    "     from z table area under the curve=.53983\n",
    "        for grater than 60 the area will be=100-53=47\n",
    "        probabilty of getting a value more than 60 is 47%"
   ]
  }
 ],
 "metadata": {
  "kernelspec": {
   "display_name": "Python 3 (ipykernel)",
   "language": "python",
   "name": "python3"
  },
  "language_info": {
   "codemirror_mode": {
    "name": "ipython",
    "version": 3
   },
   "file_extension": ".py",
   "mimetype": "text/x-python",
   "name": "python",
   "nbconvert_exporter": "python",
   "pygments_lexer": "ipython3",
   "version": "3.10.8"
  }
 },
 "nbformat": 4,
 "nbformat_minor": 5
}

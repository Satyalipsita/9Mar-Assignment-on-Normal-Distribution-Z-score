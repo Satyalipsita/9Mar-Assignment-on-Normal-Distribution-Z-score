{
 "cells": [
  {
   "cell_type": "code",
   "execution_count": null,
   "id": "10145653-ee5f-4144-825f-c093caaebcaa",
   "metadata": {},
   "outputs": [],
   "source": [
    "CDF stands for cumulative distribution function. \n",
    "It is a function that maps any real value to the probability that a random variable X takes \n",
    "on a value less than or equal to that value. In other words, \n",
    "the CDF F(x) of a random variable X is defined as:\n",
    "\n",
    "F(x) = P(X ≤ x)\n",
    "\n",
    "The CDF of a random variable is a fundamental concept in probability theory and statistics,\n",
    "and it is used to describe the distribution of a random variable in a concise and intuitive way. \n",
    "The CDF provides a complete picture of the probability distribution of the random variable X, \n",
    "including its central tendency, variability, and shape.\n",
    "\n",
    "The CDF is used in many applications, such as:\n",
    "\n",
    "Statistical inference: The CDF is used to compute various statistical quantities, \n",
    "such as confidence intervals, hypothesis tests, and p-values.\n",
    "\n",
    "Probability modeling: The CDF is used to model the distribution of a random variable, \n",
    "which can be used to generate random samples and to make predictions.\n",
    "\n",
    "Decision-making: The CDF is used to calculate probabilities of various outcomes,\n",
    "which can be used to make decisions in many contexts, such as finance, engineering, and medicine.\n",
    "\n",
    "In summary, the CDF is a useful tool for describing the distribution of a random variable, \n",
    "and it has many applications in probability theory, statistics, and decision-making."
   ]
  }
 ],
 "metadata": {
  "kernelspec": {
   "display_name": "Python 3 (ipykernel)",
   "language": "python",
   "name": "python3"
  },
  "language_info": {
   "codemirror_mode": {
    "name": "ipython",
    "version": 3
   },
   "file_extension": ".py",
   "mimetype": "text/x-python",
   "name": "python",
   "nbconvert_exporter": "python",
   "pygments_lexer": "ipython3",
   "version": "3.10.8"
  }
 },
 "nbformat": 4,
 "nbformat_minor": 5
}

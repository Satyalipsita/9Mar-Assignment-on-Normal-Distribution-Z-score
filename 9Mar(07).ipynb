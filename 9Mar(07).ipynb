{
 "cells": [
  {
   "cell_type": "code",
   "execution_count": null,
   "id": "02b18e61-09a8-4552-8766-4d66777e3d1a",
   "metadata": {},
   "outputs": [],
   "source": [
    "The uniform distribution is a probability distribution that models the random\n",
    "selection of a value from a continuous interval [a,b], where all values in the \n",
    "interval have an equal probability of being selected. This distribution is often \n",
    "used in situations where there is no a priori reason to believe that any particular\n",
    "value is more likely than any other.\n",
    "\n",
    "An example of the uniform distribution would be rolling a fair six-sided die.\n",
    "In this case, each possible outcome (1, 2, 3, 4, 5, or 6) has \n",
    "an equal probability of 1/6 of occurring, and the distribution of \n",
    "the roll is uniform across the six possible outcomes.\n",
    "\n",
    "Another example of the uniform distribution would be the distribution of\n",
    "heights of adult humans within a certain range (e.g., 5'8\" to 6'2\"). In this case, each possible height within the range has an equal probability of being selected, and the distribution of heights is uniform across the range.\n",
    "\n",
    "The probability density function (PDF) of the uniform distribution is:\n",
    "\n",
    "f(x) = 1/(b-a), for a ≤ x ≤ b\n",
    "\n",
    "where a and b are the lower and upper bounds of the interval. \n",
    "The cumulative distribution function (CDF) of the uniform distribution is:\n",
    "\n",
    "F(x) = (x-a)/(b-a), for a ≤ x ≤ b\n",
    "\n",
    "where F(x) is the probability that a value selected from the interval [a,b] \n",
    "is less than or equal to x.\n",
    "\n",
    "Overall, the uniform distribution is a useful probability distribution for \n",
    "modeling situations where all values in an interval have an equal probability \n",
    "of being selected, and it has many practical applications in fields such as statistics, \n",
    "physics, and engineering.\n",
    "\n",
    "\n",
    "\n"
   ]
  }
 ],
 "metadata": {
  "kernelspec": {
   "display_name": "Python 3 (ipykernel)",
   "language": "python",
   "name": "python3"
  },
  "language_info": {
   "codemirror_mode": {
    "name": "ipython",
    "version": 3
   },
   "file_extension": ".py",
   "mimetype": "text/x-python",
   "name": "python",
   "nbconvert_exporter": "python",
   "pygments_lexer": "ipython3",
   "version": "3.10.8"
  }
 },
 "nbformat": 4,
 "nbformat_minor": 5
}
